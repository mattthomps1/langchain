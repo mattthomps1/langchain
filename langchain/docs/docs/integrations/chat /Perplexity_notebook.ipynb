{
  "cells": [
    {
      "cell_type": "raw",
      "id": "a016701c",
      "metadata": {
        "id": "a016701c"
      },
      "source": [
        "---\n",
        "sidebar_label: Perplexity\n",
        "---"
      ]
    },
    {
      "cell_type": "markdown",
      "id": "bf733a38-db84-4363-89e2-de6735c37230",
      "metadata": {
        "id": "bf733a38-db84-4363-89e2-de6735c37230"
      },
      "source": [
        "# ChatPerplexity\n",
        "\n",
        "This notebook covers how to get started with Perplexity chat models."
      ]
    },
    {
      "cell_type": "code",
      "execution_count": null,
      "id": "d4a7c55d-b235-4ca4-a579-c90cc9570da9",
      "metadata": {
        "ExecuteTime": {
          "end_time": "2024-01-19T11:25:00.590587Z",
          "start_time": "2024-01-19T11:25:00.127293Z"
        },
        "tags": [],
        "colab": {
          "base_uri": "https://localhost:8080/"
        },
        "id": "d4a7c55d-b235-4ca4-a579-c90cc9570da9",
        "outputId": "80e4f990-6a65-41bd-8688-e4d93077bb81"
      },
      "outputs": [
        {
          "output_type": "stream",
          "name": "stdout",
          "text": [
            "Requirement already satisfied: langchain in /usr/local/lib/python3.10/dist-packages (0.2.6)\n",
            "Requirement already satisfied: PyYAML>=5.3 in /usr/local/lib/python3.10/dist-packages (from langchain) (6.0.1)\n",
            "Requirement already satisfied: SQLAlchemy<3,>=1.4 in /usr/local/lib/python3.10/dist-packages (from langchain) (2.0.31)\n",
            "Requirement already satisfied: aiohttp<4.0.0,>=3.8.3 in /usr/local/lib/python3.10/dist-packages (from langchain) (3.9.5)\n",
            "Requirement already satisfied: async-timeout<5.0.0,>=4.0.0 in /usr/local/lib/python3.10/dist-packages (from langchain) (4.0.3)\n",
            "Requirement already satisfied: langchain-core<0.3.0,>=0.2.10 in /usr/local/lib/python3.10/dist-packages (from langchain) (0.2.10)\n",
            "Requirement already satisfied: langchain-text-splitters<0.3.0,>=0.2.0 in /usr/local/lib/python3.10/dist-packages (from langchain) (0.2.2)\n",
            "Requirement already satisfied: langsmith<0.2.0,>=0.1.17 in /usr/local/lib/python3.10/dist-packages (from langchain) (0.1.82)\n",
            "Requirement already satisfied: numpy<2,>=1 in /usr/local/lib/python3.10/dist-packages (from langchain) (1.25.2)\n",
            "Requirement already satisfied: pydantic<3,>=1 in /usr/local/lib/python3.10/dist-packages (from langchain) (2.7.4)\n",
            "Requirement already satisfied: requests<3,>=2 in /usr/local/lib/python3.10/dist-packages (from langchain) (2.31.0)\n",
            "Requirement already satisfied: tenacity!=8.4.0,<9.0.0,>=8.1.0 in /usr/local/lib/python3.10/dist-packages (from langchain) (8.4.1)\n",
            "Requirement already satisfied: aiosignal>=1.1.2 in /usr/local/lib/python3.10/dist-packages (from aiohttp<4.0.0,>=3.8.3->langchain) (1.3.1)\n",
            "Requirement already satisfied: attrs>=17.3.0 in /usr/local/lib/python3.10/dist-packages (from aiohttp<4.0.0,>=3.8.3->langchain) (23.2.0)\n",
            "Requirement already satisfied: frozenlist>=1.1.1 in /usr/local/lib/python3.10/dist-packages (from aiohttp<4.0.0,>=3.8.3->langchain) (1.4.1)\n",
            "Requirement already satisfied: multidict<7.0,>=4.5 in /usr/local/lib/python3.10/dist-packages (from aiohttp<4.0.0,>=3.8.3->langchain) (6.0.5)\n",
            "Requirement already satisfied: yarl<2.0,>=1.0 in /usr/local/lib/python3.10/dist-packages (from aiohttp<4.0.0,>=3.8.3->langchain) (1.9.4)\n",
            "Requirement already satisfied: jsonpatch<2.0,>=1.33 in /usr/local/lib/python3.10/dist-packages (from langchain-core<0.3.0,>=0.2.10->langchain) (1.33)\n",
            "Requirement already satisfied: packaging<25,>=23.2 in /usr/local/lib/python3.10/dist-packages (from langchain-core<0.3.0,>=0.2.10->langchain) (24.1)\n",
            "Requirement already satisfied: orjson<4.0.0,>=3.9.14 in /usr/local/lib/python3.10/dist-packages (from langsmith<0.2.0,>=0.1.17->langchain) (3.10.5)\n",
            "Requirement already satisfied: annotated-types>=0.4.0 in /usr/local/lib/python3.10/dist-packages (from pydantic<3,>=1->langchain) (0.7.0)\n",
            "Requirement already satisfied: pydantic-core==2.18.4 in /usr/local/lib/python3.10/dist-packages (from pydantic<3,>=1->langchain) (2.18.4)\n",
            "Requirement already satisfied: typing-extensions>=4.6.1 in /usr/local/lib/python3.10/dist-packages (from pydantic<3,>=1->langchain) (4.12.2)\n",
            "Requirement already satisfied: charset-normalizer<4,>=2 in /usr/local/lib/python3.10/dist-packages (from requests<3,>=2->langchain) (3.3.2)\n",
            "Requirement already satisfied: idna<4,>=2.5 in /usr/local/lib/python3.10/dist-packages (from requests<3,>=2->langchain) (3.7)\n",
            "Requirement already satisfied: urllib3<3,>=1.21.1 in /usr/local/lib/python3.10/dist-packages (from requests<3,>=2->langchain) (2.0.7)\n",
            "Requirement already satisfied: certifi>=2017.4.17 in /usr/local/lib/python3.10/dist-packages (from requests<3,>=2->langchain) (2024.6.2)\n",
            "Requirement already satisfied: greenlet!=0.4.17 in /usr/local/lib/python3.10/dist-packages (from SQLAlchemy<3,>=1.4->langchain) (3.0.3)\n",
            "Requirement already satisfied: jsonpointer>=1.9 in /usr/local/lib/python3.10/dist-packages (from jsonpatch<2.0,>=1.33->langchain-core<0.3.0,>=0.2.10->langchain) (3.0.0)\n",
            "Collecting langchain_community\n",
            "  Downloading langchain_community-0.2.6-py3-none-any.whl (2.2 MB)\n",
            "\u001b[2K     \u001b[90m━━━━━━━━━━━━━━━━━━━━━━━━━━━━━━━━━━━━━━━━\u001b[0m \u001b[32m2.2/2.2 MB\u001b[0m \u001b[31m15.4 MB/s\u001b[0m eta \u001b[36m0:00:00\u001b[0m\n",
            "\u001b[?25hRequirement already satisfied: PyYAML>=5.3 in /usr/local/lib/python3.10/dist-packages (from langchain_community) (6.0.1)\n",
            "Requirement already satisfied: SQLAlchemy<3,>=1.4 in /usr/local/lib/python3.10/dist-packages (from langchain_community) (2.0.31)\n",
            "Requirement already satisfied: aiohttp<4.0.0,>=3.8.3 in /usr/local/lib/python3.10/dist-packages (from langchain_community) (3.9.5)\n",
            "Collecting dataclasses-json<0.7,>=0.5.7 (from langchain_community)\n",
            "  Downloading dataclasses_json-0.6.7-py3-none-any.whl (28 kB)\n",
            "Requirement already satisfied: langchain<0.3.0,>=0.2.6 in /usr/local/lib/python3.10/dist-packages (from langchain_community) (0.2.6)\n",
            "Requirement already satisfied: langchain-core<0.3.0,>=0.2.10 in /usr/local/lib/python3.10/dist-packages (from langchain_community) (0.2.10)\n",
            "Requirement already satisfied: langsmith<0.2.0,>=0.1.0 in /usr/local/lib/python3.10/dist-packages (from langchain_community) (0.1.82)\n",
            "Requirement already satisfied: numpy<2,>=1 in /usr/local/lib/python3.10/dist-packages (from langchain_community) (1.25.2)\n",
            "Requirement already satisfied: requests<3,>=2 in /usr/local/lib/python3.10/dist-packages (from langchain_community) (2.31.0)\n",
            "Requirement already satisfied: tenacity!=8.4.0,<9.0.0,>=8.1.0 in /usr/local/lib/python3.10/dist-packages (from langchain_community) (8.4.1)\n",
            "Requirement already satisfied: aiosignal>=1.1.2 in /usr/local/lib/python3.10/dist-packages (from aiohttp<4.0.0,>=3.8.3->langchain_community) (1.3.1)\n",
            "Requirement already satisfied: attrs>=17.3.0 in /usr/local/lib/python3.10/dist-packages (from aiohttp<4.0.0,>=3.8.3->langchain_community) (23.2.0)\n",
            "Requirement already satisfied: frozenlist>=1.1.1 in /usr/local/lib/python3.10/dist-packages (from aiohttp<4.0.0,>=3.8.3->langchain_community) (1.4.1)\n",
            "Requirement already satisfied: multidict<7.0,>=4.5 in /usr/local/lib/python3.10/dist-packages (from aiohttp<4.0.0,>=3.8.3->langchain_community) (6.0.5)\n",
            "Requirement already satisfied: yarl<2.0,>=1.0 in /usr/local/lib/python3.10/dist-packages (from aiohttp<4.0.0,>=3.8.3->langchain_community) (1.9.4)\n",
            "Requirement already satisfied: async-timeout<5.0,>=4.0 in /usr/local/lib/python3.10/dist-packages (from aiohttp<4.0.0,>=3.8.3->langchain_community) (4.0.3)\n",
            "Collecting marshmallow<4.0.0,>=3.18.0 (from dataclasses-json<0.7,>=0.5.7->langchain_community)\n",
            "  Downloading marshmallow-3.21.3-py3-none-any.whl (49 kB)\n",
            "\u001b[2K     \u001b[90m━━━━━━━━━━━━━━━━━━━━━━━━━━━━━━━━━━━━━━━━\u001b[0m \u001b[32m49.2/49.2 kB\u001b[0m \u001b[31m6.1 MB/s\u001b[0m eta \u001b[36m0:00:00\u001b[0m\n",
            "\u001b[?25hCollecting typing-inspect<1,>=0.4.0 (from dataclasses-json<0.7,>=0.5.7->langchain_community)\n",
            "  Downloading typing_inspect-0.9.0-py3-none-any.whl (8.8 kB)\n",
            "Requirement already satisfied: langchain-text-splitters<0.3.0,>=0.2.0 in /usr/local/lib/python3.10/dist-packages (from langchain<0.3.0,>=0.2.6->langchain_community) (0.2.2)\n",
            "Requirement already satisfied: pydantic<3,>=1 in /usr/local/lib/python3.10/dist-packages (from langchain<0.3.0,>=0.2.6->langchain_community) (2.7.4)\n",
            "Requirement already satisfied: jsonpatch<2.0,>=1.33 in /usr/local/lib/python3.10/dist-packages (from langchain-core<0.3.0,>=0.2.10->langchain_community) (1.33)\n",
            "Requirement already satisfied: packaging<25,>=23.2 in /usr/local/lib/python3.10/dist-packages (from langchain-core<0.3.0,>=0.2.10->langchain_community) (24.1)\n",
            "Requirement already satisfied: orjson<4.0.0,>=3.9.14 in /usr/local/lib/python3.10/dist-packages (from langsmith<0.2.0,>=0.1.0->langchain_community) (3.10.5)\n",
            "Requirement already satisfied: charset-normalizer<4,>=2 in /usr/local/lib/python3.10/dist-packages (from requests<3,>=2->langchain_community) (3.3.2)\n",
            "Requirement already satisfied: idna<4,>=2.5 in /usr/local/lib/python3.10/dist-packages (from requests<3,>=2->langchain_community) (3.7)\n",
            "Requirement already satisfied: urllib3<3,>=1.21.1 in /usr/local/lib/python3.10/dist-packages (from requests<3,>=2->langchain_community) (2.0.7)\n",
            "Requirement already satisfied: certifi>=2017.4.17 in /usr/local/lib/python3.10/dist-packages (from requests<3,>=2->langchain_community) (2024.6.2)\n",
            "Requirement already satisfied: typing-extensions>=4.6.0 in /usr/local/lib/python3.10/dist-packages (from SQLAlchemy<3,>=1.4->langchain_community) (4.12.2)\n",
            "Requirement already satisfied: greenlet!=0.4.17 in /usr/local/lib/python3.10/dist-packages (from SQLAlchemy<3,>=1.4->langchain_community) (3.0.3)\n",
            "Requirement already satisfied: jsonpointer>=1.9 in /usr/local/lib/python3.10/dist-packages (from jsonpatch<2.0,>=1.33->langchain-core<0.3.0,>=0.2.10->langchain_community) (3.0.0)\n",
            "Requirement already satisfied: annotated-types>=0.4.0 in /usr/local/lib/python3.10/dist-packages (from pydantic<3,>=1->langchain<0.3.0,>=0.2.6->langchain_community) (0.7.0)\n",
            "Requirement already satisfied: pydantic-core==2.18.4 in /usr/local/lib/python3.10/dist-packages (from pydantic<3,>=1->langchain<0.3.0,>=0.2.6->langchain_community) (2.18.4)\n",
            "Collecting mypy-extensions>=0.3.0 (from typing-inspect<1,>=0.4.0->dataclasses-json<0.7,>=0.5.7->langchain_community)\n",
            "  Downloading mypy_extensions-1.0.0-py3-none-any.whl (4.7 kB)\n",
            "Installing collected packages: mypy-extensions, marshmallow, typing-inspect, dataclasses-json, langchain_community\n",
            "Successfully installed dataclasses-json-0.6.7 langchain_community-0.2.6 marshmallow-3.21.3 mypy-extensions-1.0.0 typing-inspect-0.9.0\n"
          ]
        }
      ],
      "source": [
        "!pip install langchain\n",
        "!pip install langchain_community\n",
        "from langchain_community.chat_models import ChatPerplexity\n",
        "from langchain_core.prompts import ChatPromptTemplate"
      ]
    },
    {
      "cell_type": "markdown",
      "id": "97a8ce3a",
      "metadata": {
        "id": "97a8ce3a"
      },
      "source": [
        "The code provided assumes that your PPLX_API_KEY is set in your environment variables. If you would like to manually specify your API key and also choose a different model, you can use the following code:\n",
        "\n",
        "```python\n",
        "chat = ChatPerplexity(temperature=0, pplx_api_key=\"YOUR_API_KEY\", model=\"pplx-70b-online\")\n",
        "```\n",
        "\n",
        "You can check a list of available models [here](https://docs.perplexity.ai/docs/model-cards). For reproducibility, we can set the API key dynamically by taking it as an input in this notebook."
      ]
    },
    {
      "cell_type": "code",
      "execution_count": null,
      "id": "d3e49d78",
      "metadata": {
        "colab": {
          "base_uri": "https://localhost:8080/"
        },
        "id": "d3e49d78",
        "outputId": "d6236425-0b25-4a85-90f8-a5c283e93165"
      },
      "outputs": [
        {
          "name": "stdout",
          "output_type": "stream",
          "text": [
            "··········\n"
          ]
        }
      ],
      "source": [
        "import os\n",
        "from getpass import getpass\n",
        "\n",
        "PPLX_API_KEY = getpass()\n",
        "os.environ[\"PPLX_API_KEY\"] = PPLX_API_KEY"
      ]
    },
    {
      "cell_type": "code",
      "execution_count": null,
      "id": "70cf04e8-423a-4ff6-8b09-f11fb711c817",
      "metadata": {
        "ExecuteTime": {
          "end_time": "2024-01-19T11:25:04.349676Z",
          "start_time": "2024-01-19T11:25:03.964930Z"
        },
        "tags": [],
        "colab": {
          "base_uri": "https://localhost:8080/"
        },
        "id": "70cf04e8-423a-4ff6-8b09-f11fb711c817",
        "outputId": "cda42d1b-9f72-4578-f224-7549f6241784"
      },
      "outputs": [
        {
          "output_type": "stream",
          "name": "stdout",
          "text": [
            "Requirement already satisfied: openai in /usr/local/lib/python3.10/dist-packages (1.35.5)\n",
            "Requirement already satisfied: anyio<5,>=3.5.0 in /usr/local/lib/python3.10/dist-packages (from openai) (3.7.1)\n",
            "Requirement already satisfied: distro<2,>=1.7.0 in /usr/lib/python3/dist-packages (from openai) (1.7.0)\n",
            "Requirement already satisfied: httpx<1,>=0.23.0 in /usr/local/lib/python3.10/dist-packages (from openai) (0.27.0)\n",
            "Requirement already satisfied: pydantic<3,>=1.9.0 in /usr/local/lib/python3.10/dist-packages (from openai) (2.7.4)\n",
            "Requirement already satisfied: sniffio in /usr/local/lib/python3.10/dist-packages (from openai) (1.3.1)\n",
            "Requirement already satisfied: tqdm>4 in /usr/local/lib/python3.10/dist-packages (from openai) (4.66.4)\n",
            "Requirement already satisfied: typing-extensions<5,>=4.7 in /usr/local/lib/python3.10/dist-packages (from openai) (4.12.2)\n",
            "Requirement already satisfied: idna>=2.8 in /usr/local/lib/python3.10/dist-packages (from anyio<5,>=3.5.0->openai) (3.7)\n",
            "Requirement already satisfied: exceptiongroup in /usr/local/lib/python3.10/dist-packages (from anyio<5,>=3.5.0->openai) (1.2.1)\n",
            "Requirement already satisfied: certifi in /usr/local/lib/python3.10/dist-packages (from httpx<1,>=0.23.0->openai) (2024.6.2)\n",
            "Requirement already satisfied: httpcore==1.* in /usr/local/lib/python3.10/dist-packages (from httpx<1,>=0.23.0->openai) (1.0.5)\n",
            "Requirement already satisfied: h11<0.15,>=0.13 in /usr/local/lib/python3.10/dist-packages (from httpcore==1.*->httpx<1,>=0.23.0->openai) (0.14.0)\n",
            "Requirement already satisfied: annotated-types>=0.4.0 in /usr/local/lib/python3.10/dist-packages (from pydantic<3,>=1.9.0->openai) (0.7.0)\n",
            "Requirement already satisfied: pydantic-core==2.18.4 in /usr/local/lib/python3.10/dist-packages (from pydantic<3,>=1.9.0->openai) (2.18.4)\n"
          ]
        }
      ],
      "source": [
        "!pip install openai\n",
        "chat = ChatPerplexity(temperature=0, model=\"llama-3-sonar-small-32k-online\")"
      ]
    },
    {
      "cell_type": "code",
      "execution_count": null,
      "id": "8199ef8f-eb8b-4253-9ea0-6c24a013ca4c",
      "metadata": {
        "ExecuteTime": {
          "end_time": "2024-01-19T11:25:07.274418Z",
          "start_time": "2024-01-19T11:25:05.898031Z"
        },
        "tags": [],
        "colab": {
          "base_uri": "https://localhost:8080/",
          "height": 143
        },
        "id": "8199ef8f-eb8b-4253-9ea0-6c24a013ca4c",
        "outputId": "ed32232d-face-4e8e-f326-da9ee8282b1f"
      },
      "outputs": [
        {
          "output_type": "execute_result",
          "data": {
            "text/plain": [
              "'The Higgs boson is crucial to understanding the fundamental forces and structure of the universe. Here are the key reasons why:\\n\\n1. **Mass Generation**: The Higgs boson is responsible for giving mass to fundamental particles, such as quarks and leptons, which are the building blocks of matter. This is achieved through the Higgs field, which interacts with these particles to impart mass.\\n\\n2. **Symmetry Breaking**: The Higgs field helps to break the symmetry between the weak and electromagnetic forces. Without the Higgs field, these forces would be massless and indistinguishable, which is not observed in nature. The Higgs boson\\'s discovery confirmed the existence of this field and its role in symmetry breaking.\\n\\n3. **Stability of the Vacuum**: The Higgs boson\\'s mass is not yet fully understood and is a subject of ongoing research. However, it is known that the Higgs field\\'s nonzero vacuum expectation value is essential for the stability of the vacuum. This means that the universe would not collapse into a singularity if the Higgs boson\\'s mass were not stabilized.\\n\\n4. **Confirmation of the Standard Model**: The discovery of the Higgs boson completed the Standard Model of particle physics, which describes the behavior of fundamental particles and forces. The Higgs boson\\'s existence confirms the Standard Model\\'s predictions and provides a deeper understanding of the universe.\\n\\n5. **Impact on Everyday Life**: Although the Higgs boson itself does not directly affect everyday life, the technologies developed to study it have had significant impacts on society. Examples include the World Wide Web, touchscreen technology, and medical applications such as hadron therapy and PET scans.\\n\\n6. **Verification of Assumptions**: The discovery of the Higgs boson provided a \"sanity check\" for the assumption of the Higgs field\\'s existence. This verification has helped to solidify the Standard Model and has implications for the search for new physics beyond the Standard Model.\\n\\nIn summary, the Higgs boson is essential for understanding mass generation, symmetry breaking, and the stability of the vacuum. Its discovery has confirmed the Standard Model and has had significant technological spin-offs, making it a crucial component of our understanding of the universe.'"
            ],
            "application/vnd.google.colaboratory.intrinsic+json": {
              "type": "string"
            }
          },
          "metadata": {},
          "execution_count": 9
        }
      ],
      "source": [
        "system = \"You are a helpful assistant.\"\n",
        "human = \"{input}\"\n",
        "prompt = ChatPromptTemplate.from_messages([(\"system\", system), (\"human\", human)])\n",
        "\n",
        "chain = prompt | chat\n",
        "response = chain.invoke({\"input\": \"Why is the Higgs Boson important?\"})\n",
        "response.content"
      ]
    },
    {
      "cell_type": "markdown",
      "id": "de6d8d5a",
      "metadata": {
        "id": "de6d8d5a"
      },
      "source": [
        "You can format and structure the prompts like you would typically. In the following example, we ask the model to tell us a joke about cats."
      ]
    },
    {
      "cell_type": "code",
      "execution_count": null,
      "id": "c5fac0e9-05a4-4fc1-a3b3-e5bbb24b971b",
      "metadata": {
        "ExecuteTime": {
          "end_time": "2024-01-19T11:25:10.448733Z",
          "start_time": "2024-01-19T11:25:08.866277Z"
        },
        "tags": [],
        "colab": {
          "base_uri": "https://localhost:8080/",
          "height": 35
        },
        "id": "c5fac0e9-05a4-4fc1-a3b3-e5bbb24b971b",
        "outputId": "08a5e1c3-45e8-404d-dd55-6430cad63336"
      },
      "outputs": [
        {
          "output_type": "execute_result",
          "data": {
            "text/plain": [
              "\"Here's a joke about cats:\\n\\n**Why did the cat join a band?**\\n\\n**Because it wanted to be the purr-cussionist**\""
            ],
            "application/vnd.google.colaboratory.intrinsic+json": {
              "type": "string"
            }
          },
          "metadata": {},
          "execution_count": 10
        }
      ],
      "source": [
        "chat = ChatPerplexity(temperature=0, model=\"llama-3-sonar-small-32k-online\")\n",
        "prompt = ChatPromptTemplate.from_messages([(\"human\", \"Tell me a joke about {topic}\")])\n",
        "chain = prompt | chat\n",
        "response = chain.invoke({\"topic\": \"cats\"})\n",
        "response.content"
      ]
    },
    {
      "cell_type": "markdown",
      "id": "13d93dc4",
      "metadata": {
        "id": "13d93dc4"
      },
      "source": [
        "## `ChatPerplexity` also supports streaming functionality:"
      ]
    },
    {
      "cell_type": "code",
      "execution_count": null,
      "id": "025be980-e50d-4a68-93dc-c9c7b500ce34",
      "metadata": {
        "ExecuteTime": {
          "end_time": "2024-01-19T11:25:24.438696Z",
          "start_time": "2024-01-19T11:25:14.687480Z"
        },
        "tags": [],
        "colab": {
          "base_uri": "https://localhost:8080/"
        },
        "id": "025be980-e50d-4a68-93dc-c9c7b500ce34",
        "outputId": "b137570c-6252-4462-c162-e43b746af1e9"
      },
      "outputs": [
        {
          "output_type": "stream",
          "name": "stdout",
          "text": [
            "Pakistan offers a diverse range of tourist attractions, including historical sites, natural wonders, and cultural landmarks. Here are some of the most famous tourist attractions in Pakistan:\n",
            "\n",
            "1. **Lahore**:\n",
            "   - **Badshahi Mosque**: One of the largest mosques in the world, known for its intricate architecture and historical significance.\n",
            "   - **Shalimar Gardens**: A UNESCO World Heritage Site, these Mughal-inspired gardens are a prominent feature of Lahore.\n",
            "   - **Lahore Fort**: Also known as Shahi Qila, this fort is a testament to Mughal architecture and is spread over 20 hectares.\n",
            "\n",
            "2. **Taxila**:\n",
            "   - **Taxila Ruins**: Ancient Buddhist ruins, including the Takht-i-Bahi and Taxila sites, which are UNESCO World Heritage Sites.\n",
            "\n",
            "3. **Karakoram Highway**:\n",
            "   - **Karakoram Highway**: A scenic highway that connects Pakistan to China, offering breathtaking views of the Karakoram mountain range.\n",
            "\n",
            "4. **Hunza Valley**:\n",
            "   - **Hunza Valley**: Known for its stunning natural beauty, including the Rakaposhi and Ultar peaks, as well as its ancient architecture.\n",
            "\n",
            "5. **Fairy Meadows**:\n",
            "   - **Fairy Meadows**: A picturesque meadow nestled in the Karakoram mountain range, offering breathtaking views and trekking opportunities.\n",
            "\n",
            "6. **Mohenjo-Daro**:\n",
            "   - **Mohenjo-Daro**: A UNESCO World Heritage Site, this ancient city is part of the Indus Valley Civilization and features well-preserved ruins.\n",
            "\n",
            "7. **Shandur Pass**:\n",
            "   - **Shandur Pass**: Located at 12,204 feet, this pass is known for its polo matches and offers stunning views of the surrounding mountains.\n",
            "\n",
            "8. **Katas Raj Temples**:\n",
            "   - **Katas Raj Temples**: Ancient Hindu temples said to have been built by the Pandava brothers, featuring a pool believed to have been formed from the tears of the Hindu god Shiva.\n",
            "\n",
            "9. **Hiran Minar**:\n",
            "   - **Hiran Minar**: A hunting complex built for the favorite antelope of Mughal Emperor Jahangir, featuring a deer tower.\n",
            "\n",
            "10. **Pakistan Monument**:\n",
            "    - **Pakistan Monument**: A representation of the country's four provinces and three territories, designed to resemble a blooming flower.\n",
            "\n",
            "11. **Minar-e-Pakistan**:\n",
            "    - **Minar-e-Pakistan**: A public monument built to commemorate the Lahore Resolution of 1940, located in Iqbal Park.\n",
            "\n",
            "12. **Mazar-e-Qaid**:\n",
            "    - **Mazar-e-Qaid**: The final resting place of Muhammad Ali Jinnah, the founder of Pakistan, located in Karachi.\n",
            "\n",
            "13. **Faisal Mosque**:\n",
            "    - **Faisal Mosque**: Designed by Turkish architect Vedat Dalokay, this mosque is known for its unique architecture and is an iconic symbol in Islamabad.\n",
            "\n",
            "14. **Wagah Border**:\n",
            "    - **Wagah Border**: A popular tourist attraction, known for its flag-lowering ceremony between Pakistan and India.\n",
            "\n",
            "15. **Karimabad**:\n",
            "    - **Karimabad**: A scenic town in the Hunza Valley, known for its stunning views and trekking opportunities.\n",
            "\n",
            "These are just a few of the many tourist attractions Pakistan has to offer. The country's rich history, diverse landscapes, and vibrant culture make it an exciting destination for travelers."
          ]
        }
      ],
      "source": [
        "chat = ChatPerplexity(temperature=0.7, model=\"llama-3-sonar-small-32k-online\")\n",
        "prompt = ChatPromptTemplate.from_messages(\n",
        "    [(\"human\", \"Give me a list of famous tourist attractions in Pakistan\")]\n",
        ")\n",
        "chain = prompt | chat\n",
        "for chunk in chain.stream({}):\n",
        "    print(chunk.content, end=\"\", flush=True)"
      ]
    }
  ],
  "metadata": {
    "kernelspec": {
      "display_name": "Python 3 (ipykernel)",
      "language": "python",
      "name": "python3"
    },
    "language_info": {
      "codemirror_mode": {
        "name": "ipython",
        "version": 3
      },
      "file_extension": ".py",
      "mimetype": "text/x-python",
      "name": "python",
      "nbconvert_exporter": "python",
      "pygments_lexer": "ipython3",
      "version": "3.9.18"
    },
    "colab": {
      "provenance": []
    }
  },
  "nbformat": 4,
  "nbformat_minor": 5
}